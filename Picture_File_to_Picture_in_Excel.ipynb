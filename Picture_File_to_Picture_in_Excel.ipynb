{
 "cells": [
  {
   "cell_type": "markdown",
   "metadata": {},
   "source": [
    "This script takes a picture file and creates an Excel containing the RGB values (potentially scaled) of that picture ordered \n",
    "appropriately. Below the function call there is a macro which when called in the Excel file that the function creates will \n",
    "conditionally format the cells based on the input RGB values and resize the rows/columns that contain the picture to create a\n",
    "more vivid/correctly scaled picture."
   ]
  },
  {
   "cell_type": "code",
   "execution_count": 7,
   "metadata": {
    "collapsed": true
   },
   "outputs": [],
   "source": [
    "import pandas as pd\n",
    "import numpy as np\n",
    "import math as math\n",
    "from PIL import Image"
   ]
  },
  {
   "cell_type": "code",
   "execution_count": 20,
   "metadata": {
    "collapsed": false
   },
   "outputs": [],
   "source": [
    "def pic_to_excel(picture_location,output_location,scaled = 1,width_to_scale = 128):\n",
    "    #get the picture and dimensions\n",
    "    im = Image.open(picture_location)\n",
    "    width, height = im.size\n",
    "    pix = np.asarray(im)\n",
    "    \n",
    "    #determine the rescaling ratio (which could be 1 if rescaling is not desired), desired dimensions and then rescale the\n",
    "    #picture accordingly\n",
    "    width_to_scale = max((scaled * width_to_scale), ((1-scaled) * width))\n",
    "    ratio = width_to_scale / width\n",
    "    scaled_width = math.floor(width * ratio)\n",
    "    scaled_height = math.floor(height * ratio)\n",
    "    im = im.resize((scaled_width,scaled_height), Image.ANTIALIAS)\n",
    "    \n",
    "    #get the scaled RGB values as an array, I believe this array is called a 3D array since it holds rows of arrays that\n",
    "    #are themselves made up many arrays, each holding the 3 RGB values for that pixed\n",
    "    pix = np.asarray(im)\n",
    "    \n",
    "    #we need to 'unpack' the 3D array from above to get a Pandas DataFrame that has one RGB value per row/column combo instead\n",
    "    #of three. We create this DataFrame and then loop through each row of the array three times adding first the red the the\n",
    "    #green then the blue values to the DataFrame\n",
    "    for b in range(scaled_height):\n",
    "        for i in range(3):\n",
    "            if(b == 0 & i == 0):\n",
    "                data = pd.DataFrame(pix[b,:,i].reshape((1,scaled_width)))\n",
    "            else:\n",
    "                data = data.append(pd.DataFrame(pix[b,:,i].reshape((1,scaled_width))),ignore_index=True)\n",
    "    \n",
    "    #The DataFrame is then output to the desired location\n",
    "    data.to_excel(output_location,index=False,header=False)"
   ]
  },
  {
   "cell_type": "code",
   "execution_count": 21,
   "metadata": {
    "collapsed": false
   },
   "outputs": [],
   "source": [
    "pic_to_excel(picture_location = \"C:\\\\Users\\\\kmerrill\\\\Desktop\\\\dog.jpg\"\\\n",
    "             ,output_location = \"C:\\\\Users\\\\kmerrill\\\\Desktop\\\\Alaina.xlsx\")"
   ]
  },
  {
   "cell_type": "markdown",
   "metadata": {
    "collapsed": true
   },
   "source": [
    "Below is the VBA macro that when run will conditionally format the cells in the Excel created by the 'pic_to_excel' function as\n",
    "well as adjust the size of cells and zoom out to 10% for easier viewing. This macro must be copied and then manually added to \n",
    "the Excel file. I am sure there are ways to have this happen automatically which I might add later.\n",
    "\n",
    "-----START COPYING MACRO IMMEDIATELY BELOW THIS LINE-----"
   ]
  },
  {
   "cell_type": "code",
   "execution_count": null,
   "metadata": {
    "collapsed": false
   },
   "outputs": [],
   "source": [
    "'This macro is made to conditionally format cells according to their value in order to create a picture based on RGB values\n",
    "\n",
    "\n",
    "Sub MakePic()\n",
    " \n",
    "With Sheets(\"Sheet1\")\n",
    "'First get the last row and column with values so that only those rows and columns are altered\n",
    "    LastRow = .Range(\"E\" & .Rows.Count).End(xlUp).Row\n",
    "    LastCol = .Cells(1, .Columns.Count).End(xlToLeft).Column\n",
    "End With\n",
    " \n",
    " 'Loop through each row that has data, conditionally format the cells Red, Green or Blue depending on row number and with \n",
    "'intensity based on cell value and set\n",
    " 'the row height to be 3\n",
    "    For Each rw In Worksheets(\"Sheet1\").Rows\n",
    "        If rw.Row Mod 3 = 1 And rw.Row <= LastRow Then\n",
    "          rw.RowHeight = 3\n",
    "          rw.FormatConditions.AddColorScale ColorScaleType:=2\n",
    "          rw.FormatConditions(rw.FormatConditions.Count).SetFirstPriority\n",
    "          rw.FormatConditions(1).ColorScaleCriteria(1).Type = _\n",
    "              xlConditionValueNumber\n",
    "          rw.FormatConditions(1).ColorScaleCriteria(1).Value = 0\n",
    "          With rw.FormatConditions(1).ColorScaleCriteria(1).FormatColor\n",
    "              .Color = 0\n",
    "              .TintAndShade = 0\n",
    "          End With\n",
    "          rw.FormatConditions(1).ColorScaleCriteria(2).Type = _\n",
    "              xlConditionValueHighestValue\n",
    "          With rw.FormatConditions(1).ColorScaleCriteria(2).FormatColor\n",
    "              .Color = 255\n",
    "              .TintAndShade = 0\n",
    "          End With\n",
    "          End If\n",
    "         \n",
    "          If rw.Row Mod 3 = 2 And rw.Row <= LastRow Then\n",
    "          rw.RowHeight = 3\n",
    "          rw.FormatConditions.AddColorScale ColorScaleType:=2\n",
    "          rw.FormatConditions(rw.FormatConditions.Count).SetFirstPriority\n",
    "          rw.FormatConditions(1).ColorScaleCriteria(1).Type = _\n",
    "              xlConditionValueNumber\n",
    "          rw.FormatConditions(1).ColorScaleCriteria(1).Value = 0\n",
    "          With rw.FormatConditions(1).ColorScaleCriteria(1).FormatColor\n",
    "              .Color = 0\n",
    "              .TintAndShade = 0\n",
    "          End With\n",
    "          rw.FormatConditions(1).ColorScaleCriteria(2).Type = _\n",
    "              xlConditionValueHighestValue\n",
    "          With rw.FormatConditions(1).ColorScaleCriteria(2).FormatColor\n",
    "              .Color = RGB(0, 255, 0)\n",
    "              .TintAndShade = 0\n",
    "          End With\n",
    "          End If\n",
    "         \n",
    "          If rw.Row Mod 3 = 0 And rw.Row <= LastRow Then\n",
    "          rw.RowHeight = 3\n",
    "          rw.FormatConditions.AddColorScale ColorScaleType:=2\n",
    "          rw.FormatConditions(rw.FormatConditions.Count).SetFirstPriority\n",
    "          rw.FormatConditions(1).ColorScaleCriteria(1).Type = _\n",
    "              xlConditionValueNumber\n",
    "          rw.FormatConditions(1).ColorScaleCriteria(1).Value = 0\n",
    "          With rw.FormatConditions(1).ColorScaleCriteria(1).FormatColor\n",
    "              .Color = 0\n",
    "              .TintAndShade = 0\n",
    "          End With\n",
    "          rw.FormatConditions(1).ColorScaleCriteria(2).Type = _\n",
    "              xlConditionValueHighestValue\n",
    "          With rw.FormatConditions(1).ColorScaleCriteria(2).FormatColor\n",
    "              .Color = RGB(0, 0, 255)\n",
    "              .TintAndShade = 0\n",
    "          End With\n",
    "          End If\n",
    "         \n",
    "        If rw.Row > LastRow Then Exit For\n",
    "    Next rw\n",
    "    'Loop through each column with data and set the width to be 3\n",
    "    For Each col In Worksheets(\"Sheet1\").Columns\n",
    "        If col.Column > LastCol Then Exit For\n",
    "        col.ColumnWidth = 3\n",
    "    Next col\n",
    "   \n",
    "   'Zoom the window to 10 to better see the picture\n",
    "   ActiveWindow.Zoom = 10\n",
    "       \n",
    "End Sub\n"
   ]
  },
  {
   "cell_type": "code",
   "execution_count": null,
   "metadata": {
    "collapsed": true
   },
   "outputs": [],
   "source": []
  }
 ],
 "metadata": {
  "kernelspec": {
   "display_name": "Python 3",
   "language": "python",
   "name": "python3"
  },
  "language_info": {
   "codemirror_mode": {
    "name": "ipython",
    "version": 3
   },
   "file_extension": ".py",
   "mimetype": "text/x-python",
   "name": "python",
   "nbconvert_exporter": "python",
   "pygments_lexer": "ipython3",
   "version": "3.5.1"
  }
 },
 "nbformat": 4,
 "nbformat_minor": 0
}
